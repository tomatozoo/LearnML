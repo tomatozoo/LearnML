{
 "cells": [
  {
   "attachments": {},
   "cell_type": "markdown",
   "metadata": {},
   "source": [
    "# 9. NLP - 텍스트를 위한 인공 신경망"
   ]
  },
  {
   "attachments": {},
   "cell_type": "markdown",
   "metadata": {},
   "source": [
    "## 9-1. 순차 데이터와 순환 신경망\n",
    "\n",
    "- 순차 데이터 sequential data: 텍스트, 시계열 데이터처럼 순서에 의미가 있는 데이터\n",
    "- 순차 데이터를 다루기 위해서는 이전에 입력한 데이터를 기억하는 기능이 필요하다\n",
    "- FFDD Feedforward neural network: 피드포워드 신경망, 데이터 흐름이 앞으로만 전달되는 신경망\n",
    "- RNN 순환 신경망 recurrent neural network: 순차 데이터에 잘 맞는 인공 신경망. 순환층을 1개 이상 사용한 신경망\n",
    "- 셀: RNN에서 순환층을 셀이라고 부른다\n",
    "- 은닉 상태: 셀의 출력 -> 은닉 상태가 다음 층으로 전달된다 + 셀이 타음 스텝 데이터를 처리할 때 재사용된다"
   ]
  },
  {
   "attachments": {},
   "cell_type": "markdown",
   "metadata": {},
   "source": [
    "## 9-2. 순환 신경망으로 IMDB 리뷰 분류하기\n",
    "\n",
    "- NLP Natural Language Processing\n",
    "- 음성 인식, 기계 번역, 감성 분석 등\n",
    "- 훈련 데이터를 \"corpus\"라고 부름\n",
    "- 단어에 대응하는 고유한 정수를 부여한다, 이를 \"token\"이라고 함"
   ]
  },
  {
   "attachments": {},
   "cell_type": "markdown",
   "metadata": {},
   "source": [
    "데이터 불러오기"
   ]
  },
  {
   "cell_type": "code",
   "execution_count": 1,
   "metadata": {},
   "outputs": [
    {
     "name": "stdout",
     "output_type": "stream",
     "text": [
      "Downloading data from https://storage.googleapis.com/tensorflow/tf-keras-datasets/imdb.npz\n",
      "17464789/17464789 [==============================] - 20s 1us/step\n"
     ]
    }
   ],
   "source": [
    "from tensorflow.keras.datasets import imdb\n",
    "(train_input, train_target), (test_input, test_target) = imdb.load_data(num_words=500)"
   ]
  },
  {
   "cell_type": "code",
   "execution_count": 2,
   "metadata": {},
   "outputs": [
    {
     "name": "stdout",
     "output_type": "stream",
     "text": [
      "(25000,) (25000,)\n"
     ]
    }
   ],
   "source": [
    "print(train_input.shape, test_input.shape)"
   ]
  },
  {
   "cell_type": "code",
   "execution_count": 3,
   "metadata": {},
   "outputs": [
    {
     "name": "stdout",
     "output_type": "stream",
     "text": [
      "[1, 14, 22, 16, 43, 2, 2, 2, 2, 65, 458, 2, 66, 2, 4, 173, 36, 256, 5, 25, 100, 43, 2, 112, 50, 2, 2, 9, 35, 480, 284, 5, 150, 4, 172, 112, 167, 2, 336, 385, 39, 4, 172, 2, 2, 17, 2, 38, 13, 447, 4, 192, 50, 16, 6, 147, 2, 19, 14, 22, 4, 2, 2, 469, 4, 22, 71, 87, 12, 16, 43, 2, 38, 76, 15, 13, 2, 4, 22, 17, 2, 17, 12, 16, 2, 18, 2, 5, 62, 386, 12, 8, 316, 8, 106, 5, 4, 2, 2, 16, 480, 66, 2, 33, 4, 130, 12, 16, 38, 2, 5, 25, 124, 51, 36, 135, 48, 25, 2, 33, 6, 22, 12, 215, 28, 77, 52, 5, 14, 407, 16, 82, 2, 8, 4, 107, 117, 2, 15, 256, 4, 2, 7, 2, 5, 2, 36, 71, 43, 2, 476, 26, 400, 317, 46, 7, 4, 2, 2, 13, 104, 88, 4, 381, 15, 297, 98, 32, 2, 56, 26, 141, 6, 194, 2, 18, 4, 226, 22, 21, 134, 476, 26, 480, 5, 144, 30, 2, 18, 51, 36, 28, 224, 92, 25, 104, 4, 226, 65, 16, 38, 2, 88, 12, 16, 283, 5, 16, 2, 113, 103, 32, 15, 16, 2, 19, 178, 32]\n"
     ]
    }
   ],
   "source": [
    "print(train_input[0])"
   ]
  },
  {
   "cell_type": "code",
   "execution_count": 4,
   "metadata": {},
   "outputs": [
    {
     "name": "stdout",
     "output_type": "stream",
     "text": [
      "[1 0 0 1 0 0 1 0 1 0 1 0 0 0 0 0 1 1 0 1]\n"
     ]
    }
   ],
   "source": [
    "print(train_target[:20]) # 0은 부정, 1은 긍정"
   ]
  },
  {
   "attachments": {},
   "cell_type": "markdown",
   "metadata": {},
   "source": [
    "훈련 셋과 검증 셋 분리하기"
   ]
  },
  {
   "cell_type": "code",
   "execution_count": 5,
   "metadata": {},
   "outputs": [],
   "source": [
    "from sklearn.model_selection import train_test_split\n",
    "train_input, val_input, train_target, val_target = train_test_split(\n",
    "    train_input, train_target, test_size=0.2, random_state=42\n",
    ")"
   ]
  },
  {
   "cell_type": "code",
   "execution_count": 6,
   "metadata": {},
   "outputs": [
    {
     "name": "stdout",
     "output_type": "stream",
     "text": [
      "239.00925 178.0\n"
     ]
    },
    {
     "data": {
      "image/png": "[encoded data removed]",
      "text/plain": [
       "<Figure size 640x480 with 1 Axes>"
      ]
     },
     "metadata": {},
     "output_type": "display_data"
    }
   ],
   "source": [
    "import numpy as np\n",
    "import matplotlib.pyplot as plt\n",
    "\n",
    "lengths = np.array([len(x) for x in train_input])\n",
    "print(np.mean(lengths), np.median(lengths))\n",
    "\n",
    "plt.hist(lengths)\n",
    "plt.xlabel(\"length\")\n",
    "plt.ylabel(\"frequency\")\n",
    "plt.show()"
   ]
  },
  {
   "attachments": {},
   "cell_type": "markdown",
   "metadata": {},
   "source": [
    "100개 단어 이하인 리뷰만 사용하기\n",
    "\n",
    "100보다 짧은 리뷰는 토큰 0으로 패딩을 채운다\n",
    "\n",
    "100보다 긴 리뷰는 앞부분부터 자른다"
   ]
  },
  {
   "cell_type": "code",
   "execution_count": 9,
   "metadata": {},
   "outputs": [
    {
     "name": "stdout",
     "output_type": "stream",
     "text": [
      "(20000, 100)\n"
     ]
    }
   ],
   "source": [
    "from tensorflow.keras.preprocessing.sequence import pad_sequences\n",
    "train_seq = pad_sequences(train_input, maxlen=100)\n",
    "val_seq = pad_sequences(val_input, maxlen=100)\n",
    "print(train_seq.shape)"
   ]
  },
  {
   "attachments": {},
   "cell_type": "markdown",
   "metadata": {},
   "source": [
    "### 순환 신경망 만들기\n",
    "\n",
    "- 가장 간단한 순환층 클래스: SimpleRNN\n",
    "  "
   ]
  },
  {
   "cell_type": "code",
   "execution_count": 10,
   "metadata": {},
   "outputs": [],
   "source": [
    "from tensorflow import keras\n",
    "model = keras.Sequential()\n",
    "model.add(keras.layers.SimpleRNN(8, # 뉴련 개수\n",
    "                                 input_shape=(100, 500), # input 차원(샘플 길이, 원핫인코딩 길이)\n",
    "                                 activation=\"tanh\")) # 활성화 함수 tanh\n",
    "model.add(keras.layers.Dense(1, activation=\"sigmoid\"))"
   ]
  },
  {
   "attachments": {},
   "cell_type": "markdown",
   "metadata": {},
   "source": [
    "원핫 인코딩"
   ]
  },
  {
   "cell_type": "code",
   "execution_count": 14,
   "metadata": {},
   "outputs": [
    {
     "name": "stdout",
     "output_type": "stream",
     "text": [
      "(20000, 100, 500)\n"
     ]
    }
   ],
   "source": [
    "train_oh = keras.utils.to_categorical(train_seq)\n",
    "val_oh = keras.utils.to_categorical(val_seq)\n",
    "print(train_oh.shape)"
   ]
  },
  {
   "cell_type": "code",
   "execution_count": 15,
   "metadata": {},
   "outputs": [
    {
     "name": "stdout",
     "output_type": "stream",
     "text": [
      "Model: \"sequential\"\n",
      "_________________________________________________________________\n",
      " Layer (type)                Output Shape              Param #   \n",
      "=================================================================\n",
      " simple_rnn (SimpleRNN)      (None, 8)                 4072      \n",
      "                                                                 \n",
      " dense (Dense)               (None, 1)                 9         \n",
      "                                                                 \n",
      "=================================================================\n",
      "Total params: 4,081\n",
      "Trainable params: 4,081\n",
      "Non-trainable params: 0\n",
      "_________________________________________________________________\n"
     ]
    }
   ],
   "source": [
    "model.summary()"
   ]
  },
  {
   "attachments": {},
   "cell_type": "markdown",
   "metadata": {},
   "source": [
    "학습시키기"
   ]
  },
  {
   "cell_type": "code",
   "execution_count": 16,
   "metadata": {},
   "outputs": [
    {
     "name": "stdout",
     "output_type": "stream",
     "text": [
      "Epoch 1/100\n",
      "313/313 [==============================] - 10s 28ms/step - loss: 0.7023 - accuracy: 0.4967 - val_loss: 0.6996 - val_accuracy: 0.5046\n",
      "Epoch 2/100\n",
      "313/313 [==============================] - 9s 28ms/step - loss: 0.6966 - accuracy: 0.5051 - val_loss: 0.6960 - val_accuracy: 0.5090\n",
      "Epoch 3/100\n",
      "313/313 [==============================] - 9s 29ms/step - loss: 0.6937 - accuracy: 0.5169 - val_loss: 0.6938 - val_accuracy: 0.5144\n",
      "Epoch 4/100\n",
      "313/313 [==============================] - 11s 34ms/step - loss: 0.6891 - accuracy: 0.5375 - val_loss: 0.6865 - val_accuracy: 0.5480\n",
      "Epoch 5/100\n",
      "313/313 [==============================] - 11s 34ms/step - loss: 0.6784 - accuracy: 0.5874 - val_loss: 0.6769 - val_accuracy: 0.5878\n",
      "Epoch 6/100\n",
      "313/313 [==============================] - 15s 47ms/step - loss: 0.6678 - accuracy: 0.6219 - val_loss: 0.6677 - val_accuracy: 0.6100\n",
      "Epoch 7/100\n",
      "313/313 [==============================] - 13s 43ms/step - loss: 0.6566 - accuracy: 0.6517 - val_loss: 0.6550 - val_accuracy: 0.6584\n",
      "Epoch 8/100\n",
      "313/313 [==============================] - 11s 35ms/step - loss: 0.6418 - accuracy: 0.6845 - val_loss: 0.6432 - val_accuracy: 0.6702\n",
      "Epoch 9/100\n",
      "313/313 [==============================] - 9s 27ms/step - loss: 0.6294 - accuracy: 0.7006 - val_loss: 0.6346 - val_accuracy: 0.6796\n",
      "Epoch 10/100\n",
      "313/313 [==============================] - 11s 35ms/step - loss: 0.6168 - accuracy: 0.7168 - val_loss: 0.6213 - val_accuracy: 0.6970\n",
      "Epoch 11/100\n",
      "313/313 [==============================] - 9s 30ms/step - loss: 0.6047 - accuracy: 0.7281 - val_loss: 0.6077 - val_accuracy: 0.7194\n",
      "Epoch 12/100\n",
      "313/313 [==============================] - 10s 33ms/step - loss: 0.5919 - accuracy: 0.7360 - val_loss: 0.5947 - val_accuracy: 0.7280\n",
      "Epoch 13/100\n",
      "313/313 [==============================] - 12s 39ms/step - loss: 0.5786 - accuracy: 0.7444 - val_loss: 0.5837 - val_accuracy: 0.7296\n",
      "Epoch 14/100\n",
      "313/313 [==============================] - 11s 34ms/step - loss: 0.5657 - accuracy: 0.7488 - val_loss: 0.5728 - val_accuracy: 0.7294\n",
      "Epoch 15/100\n",
      "313/313 [==============================] - 10s 33ms/step - loss: 0.5530 - accuracy: 0.7520 - val_loss: 0.5595 - val_accuracy: 0.7348\n",
      "Epoch 16/100\n",
      "313/313 [==============================] - 17s 54ms/step - loss: 0.5375 - accuracy: 0.7578 - val_loss: 0.5440 - val_accuracy: 0.7436\n",
      "Epoch 17/100\n",
      "313/313 [==============================] - 14s 43ms/step - loss: 0.5230 - accuracy: 0.7667 - val_loss: 0.5305 - val_accuracy: 0.7510\n",
      "Epoch 18/100\n",
      "313/313 [==============================] - 10s 31ms/step - loss: 0.5093 - accuracy: 0.7721 - val_loss: 0.5186 - val_accuracy: 0.7554\n",
      "Epoch 19/100\n",
      "313/313 [==============================] - 10s 31ms/step - loss: 0.4986 - accuracy: 0.7771 - val_loss: 0.5078 - val_accuracy: 0.7660\n",
      "Epoch 20/100\n",
      "313/313 [==============================] - 9s 30ms/step - loss: 0.4888 - accuracy: 0.7837 - val_loss: 0.4965 - val_accuracy: 0.7738\n",
      "Epoch 21/100\n",
      "313/313 [==============================] - 10s 30ms/step - loss: 0.4796 - accuracy: 0.7876 - val_loss: 0.4892 - val_accuracy: 0.7764\n",
      "Epoch 22/100\n",
      "313/313 [==============================] - 13s 40ms/step - loss: 0.4720 - accuracy: 0.7907 - val_loss: 0.4860 - val_accuracy: 0.7814\n",
      "Epoch 23/100\n",
      "313/313 [==============================] - 12s 39ms/step - loss: 0.4659 - accuracy: 0.7930 - val_loss: 0.4755 - val_accuracy: 0.7828\n",
      "Epoch 24/100\n",
      "313/313 [==============================] - 12s 38ms/step - loss: 0.4590 - accuracy: 0.7973 - val_loss: 0.4706 - val_accuracy: 0.7858\n",
      "Epoch 25/100\n",
      "313/313 [==============================] - 12s 37ms/step - loss: 0.4544 - accuracy: 0.7974 - val_loss: 0.4683 - val_accuracy: 0.7868\n",
      "Epoch 26/100\n",
      "313/313 [==============================] - 11s 35ms/step - loss: 0.4496 - accuracy: 0.8005 - val_loss: 0.4674 - val_accuracy: 0.7852\n",
      "Epoch 27/100\n",
      "313/313 [==============================] - 11s 34ms/step - loss: 0.4456 - accuracy: 0.8016 - val_loss: 0.4625 - val_accuracy: 0.7900\n",
      "Epoch 28/100\n",
      "313/313 [==============================] - 10s 32ms/step - loss: 0.4412 - accuracy: 0.8025 - val_loss: 0.4651 - val_accuracy: 0.7848\n",
      "Epoch 29/100\n",
      "313/313 [==============================] - 10s 32ms/step - loss: 0.4383 - accuracy: 0.8059 - val_loss: 0.4627 - val_accuracy: 0.7856\n",
      "Epoch 30/100\n",
      "313/313 [==============================] - 10s 32ms/step - loss: 0.4348 - accuracy: 0.8069 - val_loss: 0.4571 - val_accuracy: 0.7882\n",
      "Epoch 31/100\n",
      "313/313 [==============================] - 10s 32ms/step - loss: 0.4325 - accuracy: 0.8067 - val_loss: 0.4549 - val_accuracy: 0.7924\n",
      "Epoch 32/100\n",
      "313/313 [==============================] - 10s 33ms/step - loss: 0.4298 - accuracy: 0.8088 - val_loss: 0.4533 - val_accuracy: 0.7946\n",
      "Epoch 33/100\n",
      "313/313 [==============================] - 10s 32ms/step - loss: 0.4279 - accuracy: 0.8091 - val_loss: 0.4518 - val_accuracy: 0.7912\n",
      "Epoch 34/100\n",
      "313/313 [==============================] - 12s 39ms/step - loss: 0.4268 - accuracy: 0.8090 - val_loss: 0.4499 - val_accuracy: 0.7922\n",
      "Epoch 35/100\n",
      "313/313 [==============================] - 13s 43ms/step - loss: 0.4250 - accuracy: 0.8110 - val_loss: 0.4540 - val_accuracy: 0.7912\n",
      "Epoch 36/100\n",
      "313/313 [==============================] - 12s 38ms/step - loss: 0.4239 - accuracy: 0.8099 - val_loss: 0.4526 - val_accuracy: 0.7938\n",
      "Epoch 37/100\n",
      "313/313 [==============================] - 11s 34ms/step - loss: 0.4223 - accuracy: 0.8117 - val_loss: 0.4476 - val_accuracy: 0.7948\n",
      "Epoch 38/100\n",
      "313/313 [==============================] - 11s 35ms/step - loss: 0.4202 - accuracy: 0.8137 - val_loss: 0.4590 - val_accuracy: 0.7882\n",
      "Epoch 39/100\n",
      "313/313 [==============================] - 10s 31ms/step - loss: 0.4198 - accuracy: 0.8112 - val_loss: 0.4490 - val_accuracy: 0.7930\n",
      "Epoch 40/100\n",
      "313/313 [==============================] - 11s 34ms/step - loss: 0.4178 - accuracy: 0.8134 - val_loss: 0.4499 - val_accuracy: 0.7914\n"
     ]
    }
   ],
   "source": [
    "rmsprop = keras.optimizers.RMSprop(learning_rate=1e-4)\n",
    "model.compile(\n",
    "    optimizer=rmsprop, \n",
    "    loss=\"binary_crossentropy\",\n",
    "    metrics=[\"accuracy\"]\n",
    ")\n",
    "checkpoint_cb = keras.callbacks.ModelCheckpoint(\"best-simplernn-model.h5\",\n",
    "                                                save_best_only=True)\n",
    "early_stopping_cb = keras.callbacks.EarlyStopping(patience=3, \n",
    "                                                  restore_best_weights=True)\n",
    "history = model.fit(train_oh, train_target, \n",
    "                    epochs=100, \n",
    "                    batch_size=64, \n",
    "                    validation_data=(val_oh, val_target),\n",
    "                    callbacks=[checkpoint_cb, early_stopping_cb])"
   ]
  },
  {
   "attachments": {},
   "cell_type": "markdown",
   "metadata": {},
   "source": [
    "훈련 손실과 검증 손실"
   ]
  },
  {
   "cell_type": "code",
   "execution_count": 17,
   "metadata": {},
   "outputs": [
    {
     "data": {
      "image/png": "[encoded data removed]",
      "text/plain": [
       "<Figure size 640x480 with 1 Axes>"
      ]
     },
     "metadata": {},
     "output_type": "display_data"
    }
   ],
   "source": [
    "plt.plot(history.history[\"loss\"])\n",
    "plt.plot(history.history[\"val_loss\"])\n",
    "plt.xlabel(\"epoch\")\n",
    "plt.ylabel(\"loss\")\n",
    "plt.legend([\"train\", \"val\"])\n",
    "plt.show()"
   ]
  },
  {
   "attachments": {},
   "cell_type": "markdown",
   "metadata": {},
   "source": [
    "- 단어 임베딩 사용하기 word embedding\n",
    "- 각 단어를 고정된 크기의 실수 벡터로 바꿈\n"
   ]
  },
  {
   "cell_type": "code",
   "execution_count": 18,
   "metadata": {},
   "outputs": [],
   "source": [
    "model2 = keras.Sequential()\n",
    "model2.add(keras.layers.Embedding(500, 16, input_length=100))\n",
    "model2.add(keras.layers.SimpleRNN(8))\n",
    "model2.add(keras.layers.Dense(1, activation=\"sigmoid\"))"
   ]
  },
  {
   "cell_type": "code",
   "execution_count": 19,
   "metadata": {},
   "outputs": [
    {
     "name": "stdout",
     "output_type": "stream",
     "text": [
      "Model: \"sequential_1\"\n",
      "_________________________________________________________________\n",
      " Layer (type)                Output Shape              Param #   \n",
      "=================================================================\n",
      " embedding (Embedding)       (None, 100, 16)           8000      \n",
      "                                                                 \n",
      " simple_rnn_1 (SimpleRNN)    (None, 8)                 200       \n",
      "                                                                 \n",
      " dense_1 (Dense)             (None, 1)                 9         \n",
      "                                                                 \n",
      "=================================================================\n",
      "Total params: 8,209\n",
      "Trainable params: 8,209\n",
      "Non-trainable params: 0\n",
      "_________________________________________________________________\n"
     ]
    }
   ],
   "source": [
    "model2.summary()"
   ]
  },
  {
   "attachments": {},
   "cell_type": "markdown",
   "metadata": {},
   "source": [
    "학습시키기"
   ]
  },
  {
   "cell_type": "code",
   "execution_count": 20,
   "metadata": {},
   "outputs": [
    {
     "name": "stdout",
     "output_type": "stream",
     "text": [
      "Epoch 1/100\n",
      "313/313 [==============================] - 9s 24ms/step - loss: 0.6947 - accuracy: 0.5099 - val_loss: 0.6892 - val_accuracy: 0.5406\n",
      "Epoch 2/100\n",
      "313/313 [==============================] - 8s 25ms/step - loss: 0.6749 - accuracy: 0.6126 - val_loss: 0.6651 - val_accuracy: 0.6582\n",
      "Epoch 3/100\n",
      "313/313 [==============================] - 10s 31ms/step - loss: 0.6553 - accuracy: 0.6882 - val_loss: 0.6513 - val_accuracy: 0.6948\n",
      "Epoch 4/100\n",
      "313/313 [==============================] - 11s 36ms/step - loss: 0.6410 - accuracy: 0.7179 - val_loss: 0.6404 - val_accuracy: 0.7160\n",
      "Epoch 5/100\n",
      "313/313 [==============================] - 11s 34ms/step - loss: 0.6283 - accuracy: 0.7362 - val_loss: 0.6292 - val_accuracy: 0.7338\n",
      "Epoch 6/100\n",
      "313/313 [==============================] - 8s 27ms/step - loss: 0.6170 - accuracy: 0.7466 - val_loss: 0.6189 - val_accuracy: 0.7404\n",
      "Epoch 7/100\n",
      "313/313 [==============================] - 7s 23ms/step - loss: 0.6057 - accuracy: 0.7561 - val_loss: 0.6114 - val_accuracy: 0.7450\n",
      "Epoch 8/100\n",
      "313/313 [==============================] - 7s 23ms/step - loss: 0.5942 - accuracy: 0.7661 - val_loss: 0.6002 - val_accuracy: 0.7560\n",
      "Epoch 9/100\n",
      "313/313 [==============================] - 7s 23ms/step - loss: 0.5839 - accuracy: 0.7704 - val_loss: 0.5902 - val_accuracy: 0.7582\n",
      "Epoch 10/100\n",
      "313/313 [==============================] - 7s 23ms/step - loss: 0.5728 - accuracy: 0.7752 - val_loss: 0.5827 - val_accuracy: 0.7588\n",
      "Epoch 11/100\n",
      "313/313 [==============================] - 7s 23ms/step - loss: 0.5628 - accuracy: 0.7823 - val_loss: 0.5766 - val_accuracy: 0.7582\n",
      "Epoch 12/100\n",
      "313/313 [==============================] - 7s 23ms/step - loss: 0.5528 - accuracy: 0.7836 - val_loss: 0.5690 - val_accuracy: 0.7596\n",
      "Epoch 13/100\n",
      "313/313 [==============================] - 8s 25ms/step - loss: 0.5432 - accuracy: 0.7860 - val_loss: 0.5625 - val_accuracy: 0.7606\n",
      "Epoch 14/100\n",
      "313/313 [==============================] - 7s 24ms/step - loss: 0.5342 - accuracy: 0.7890 - val_loss: 0.5575 - val_accuracy: 0.7582\n",
      "Epoch 15/100\n",
      "313/313 [==============================] - 7s 23ms/step - loss: 0.5264 - accuracy: 0.7892 - val_loss: 0.5509 - val_accuracy: 0.7584\n",
      "Epoch 16/100\n",
      "313/313 [==============================] - 7s 24ms/step - loss: 0.5176 - accuracy: 0.7926 - val_loss: 0.5439 - val_accuracy: 0.7608\n",
      "Epoch 17/100\n",
      "313/313 [==============================] - 7s 23ms/step - loss: 0.5107 - accuracy: 0.7948 - val_loss: 0.5413 - val_accuracy: 0.7608\n",
      "Epoch 18/100\n",
      "313/313 [==============================] - 7s 23ms/step - loss: 0.5027 - accuracy: 0.7969 - val_loss: 0.5382 - val_accuracy: 0.7580\n",
      "Epoch 19/100\n",
      "313/313 [==============================] - 8s 24ms/step - loss: 0.4970 - accuracy: 0.7970 - val_loss: 0.5336 - val_accuracy: 0.7558\n",
      "Epoch 20/100\n",
      "313/313 [==============================] - 7s 24ms/step - loss: 0.4912 - accuracy: 0.7972 - val_loss: 0.5272 - val_accuracy: 0.7620\n",
      "Epoch 21/100\n",
      "313/313 [==============================] - 7s 24ms/step - loss: 0.4852 - accuracy: 0.7977 - val_loss: 0.5249 - val_accuracy: 0.7628\n",
      "Epoch 22/100\n",
      "313/313 [==============================] - 7s 24ms/step - loss: 0.4806 - accuracy: 0.7997 - val_loss: 0.5209 - val_accuracy: 0.7626\n",
      "Epoch 23/100\n",
      "313/313 [==============================] - 7s 24ms/step - loss: 0.4749 - accuracy: 0.8009 - val_loss: 0.5192 - val_accuracy: 0.7588\n",
      "Epoch 24/100\n",
      "313/313 [==============================] - 7s 24ms/step - loss: 0.4698 - accuracy: 0.8026 - val_loss: 0.5182 - val_accuracy: 0.7620\n",
      "Epoch 25/100\n",
      "313/313 [==============================] - 7s 24ms/step - loss: 0.4649 - accuracy: 0.8015 - val_loss: 0.5153 - val_accuracy: 0.7624\n",
      "Epoch 26/100\n",
      "313/313 [==============================] - 8s 25ms/step - loss: 0.4626 - accuracy: 0.8035 - val_loss: 0.5155 - val_accuracy: 0.7672\n",
      "Epoch 27/100\n",
      "313/313 [==============================] - 7s 23ms/step - loss: 0.4604 - accuracy: 0.8036 - val_loss: 0.5130 - val_accuracy: 0.7654\n",
      "Epoch 28/100\n",
      "313/313 [==============================] - 8s 24ms/step - loss: 0.4558 - accuracy: 0.8060 - val_loss: 0.5175 - val_accuracy: 0.7610\n",
      "Epoch 29/100\n",
      "313/313 [==============================] - 7s 22ms/step - loss: 0.4530 - accuracy: 0.8076 - val_loss: 0.5145 - val_accuracy: 0.7630\n",
      "Epoch 30/100\n",
      "313/313 [==============================] - 7s 23ms/step - loss: 0.4499 - accuracy: 0.8075 - val_loss: 0.5133 - val_accuracy: 0.7688\n"
     ]
    }
   ],
   "source": [
    "rmsprop = keras.optimizers.RMSprop(learning_rate=1e-4)\n",
    "model2.compile(optimizer=rmsprop, loss=\"binary_crossentropy\", metrics=[\"accuracy\"])\n",
    "checkpoint_cb = keras.callbacks.ModelCheckpoint(\"best-embedding-model.h5\",\n",
    "                                                save_best_only=True)\n",
    "early_stopping_cb = keras.callbacks.EarlyStopping(patience=3, \n",
    "                                                  restore_best_weights=True)\n",
    "history = model2.fit(train_seq, train_target, \n",
    "                     epochs=100, batch_size=64, \n",
    "                     validation_data=(val_seq, val_target), \n",
    "                     callbacks=[checkpoint_cb, early_stopping_cb])"
   ]
  },
  {
   "cell_type": "code",
   "execution_count": 21,
   "metadata": {},
   "outputs": [
    {
     "data": {
      "image/png": "[encoded data removed]",
      "text/plain": [
       "<Figure size 640x480 with 1 Axes>"
      ]
     },
     "metadata": {},
     "output_type": "display_data"
    }
   ],
   "source": [
    "plt.plot(history.history[\"loss\"])\n",
    "plt.plot(history.history[\"val_loss\"])\n",
    "plt.xlabel(\"epoch\")\n",
    "plt.ylabel(\"loss\")\n",
    "plt.legend([\"train\", \"val\"])\n",
    "plt.show()"
   ]
  },
  {
   "attachments": {},
   "cell_type": "markdown",
   "metadata": {},
   "source": [
    "## 9-3. LSTM과 GRU 셀\n",
    "\n",
    "- RNN에서 빼놓을 수 없는 기술인 LSTM과 GRU\n",
    "- LSTM은 Long Short-Term Memory의 약자\n",
    "- GRU는 Gated Recurrent Unit의 약자"
   ]
  },
  {
   "attachments": {},
   "cell_type": "markdown",
   "metadata": {},
   "source": [
    "### LSTM Long Short-Term Memory\n",
    "\n",
    "![image](https://user-images.githubusercontent.com/81140673/224916276-28afb3b5-9faf-485b-ac0f-7daa1caa9449.png)\n",
    "\n",
    "\n",
    "- 타임스탭이 긴 데이터를 효과적으로 학습하기 위해 고안된 순환층"
   ]
  },
  {
   "attachments": {},
   "cell_type": "markdown",
   "metadata": {},
   "source": [
    "데이터 불러오기"
   ]
  },
  {
   "cell_type": "code",
   "execution_count": 22,
   "metadata": {},
   "outputs": [],
   "source": [
    "from tensorflow.keras.datasets import imdb\n",
    "from sklearn.model_selection import train_test_split\n",
    "(train_input, train_target), (test_input, test_target) = imdb.load_data(num_words=100)\n",
    "train_input, val_input, train_target, val_target = train_test_split(\n",
    "    train_input, train_target, test_size=0.2, random_state=42\n",
    ")"
   ]
  },
  {
   "attachments": {},
   "cell_type": "markdown",
   "metadata": {},
   "source": [
    "데이터 전처리 -> 샘플 길이 맞추기"
   ]
  },
  {
   "cell_type": "code",
   "execution_count": 23,
   "metadata": {},
   "outputs": [],
   "source": [
    "from tensorflow.keras.preprocessing.sequence import pad_sequences\n",
    "train_seq = pad_sequences(train_input, maxlen=100)\n",
    "val_seq = pad_sequences(val_input, maxlen=100)"
   ]
  },
  {
   "attachments": {},
   "cell_type": "markdown",
   "metadata": {},
   "source": [
    "모델 만들기"
   ]
  },
  {
   "cell_type": "code",
   "execution_count": 24,
   "metadata": {},
   "outputs": [],
   "source": [
    "from tensorflow import keras\n",
    "model = keras.Sequential()\n",
    "model.add(keras.layers.Embedding(500, 16, input_length=100))\n",
    "model.add(keras.layers.LSTM(8))\n",
    "model.add(keras.layers.Dense(1, activation=\"sigmoid\"))"
   ]
  },
  {
   "cell_type": "code",
   "execution_count": 25,
   "metadata": {},
   "outputs": [
    {
     "name": "stdout",
     "output_type": "stream",
     "text": [
      "Model: \"sequential_2\"\n",
      "_________________________________________________________________\n",
      " Layer (type)                Output Shape              Param #   \n",
      "=================================================================\n",
      " embedding_1 (Embedding)     (None, 100, 16)           8000      \n",
      "                                                                 \n",
      " lstm (LSTM)                 (None, 8)                 800       \n",
      "                                                                 \n",
      " dense_2 (Dense)             (None, 1)                 9         \n",
      "                                                                 \n",
      "=================================================================\n",
      "Total params: 8,809\n",
      "Trainable params: 8,809\n",
      "Non-trainable params: 0\n",
      "_________________________________________________________________\n"
     ]
    }
   ],
   "source": [
    "model.summary()"
   ]
  },
  {
   "attachments": {},
   "cell_type": "markdown",
   "metadata": {},
   "source": [
    "훈련시키기"
   ]
  },
  {
   "cell_type": "code",
   "execution_count": 26,
   "metadata": {},
   "outputs": [
    {
     "name": "stdout",
     "output_type": "stream",
     "text": [
      "Epoch 1/100\n",
      "313/313 [==============================] - 15s 39ms/step - loss: 0.6930 - accuracy: 0.5115 - val_loss: 0.6927 - val_accuracy: 0.5284\n",
      "Epoch 2/100\n",
      "313/313 [==============================] - 12s 39ms/step - loss: 0.6919 - accuracy: 0.5513 - val_loss: 0.6911 - val_accuracy: 0.5974\n",
      "Epoch 3/100\n",
      "313/313 [==============================] - 13s 42ms/step - loss: 0.6890 - accuracy: 0.6032 - val_loss: 0.6862 - val_accuracy: 0.6252\n",
      "Epoch 4/100\n",
      "313/313 [==============================] - 12s 40ms/step - loss: 0.6739 - accuracy: 0.6398 - val_loss: 0.6549 - val_accuracy: 0.6452\n",
      "Epoch 5/100\n",
      "313/313 [==============================] - 16s 53ms/step - loss: 0.6425 - accuracy: 0.6512 - val_loss: 0.6372 - val_accuracy: 0.6538\n",
      "Epoch 6/100\n",
      "313/313 [==============================] - 18s 56ms/step - loss: 0.6307 - accuracy: 0.6633 - val_loss: 0.6271 - val_accuracy: 0.6618\n",
      "Epoch 7/100\n",
      "313/313 [==============================] - 16s 51ms/step - loss: 0.6222 - accuracy: 0.6676 - val_loss: 0.6197 - val_accuracy: 0.6704\n",
      "Epoch 8/100\n",
      "313/313 [==============================] - 12s 38ms/step - loss: 0.6146 - accuracy: 0.6737 - val_loss: 0.6143 - val_accuracy: 0.6744\n",
      "Epoch 9/100\n",
      "313/313 [==============================] - 13s 40ms/step - loss: 0.6072 - accuracy: 0.6817 - val_loss: 0.6078 - val_accuracy: 0.6734\n",
      "Epoch 10/100\n",
      "313/313 [==============================] - 12s 40ms/step - loss: 0.6013 - accuracy: 0.6870 - val_loss: 0.6008 - val_accuracy: 0.6832\n",
      "Epoch 11/100\n",
      "313/313 [==============================] - 12s 39ms/step - loss: 0.5962 - accuracy: 0.6916 - val_loss: 0.5956 - val_accuracy: 0.6888\n",
      "Epoch 12/100\n",
      "313/313 [==============================] - 11s 36ms/step - loss: 0.5916 - accuracy: 0.6941 - val_loss: 0.5925 - val_accuracy: 0.6884\n",
      "Epoch 13/100\n",
      "313/313 [==============================] - 11s 35ms/step - loss: 0.5886 - accuracy: 0.6951 - val_loss: 0.5956 - val_accuracy: 0.6858\n",
      "Epoch 14/100\n",
      "313/313 [==============================] - 11s 35ms/step - loss: 0.5860 - accuracy: 0.6962 - val_loss: 0.5872 - val_accuracy: 0.6930\n",
      "Epoch 15/100\n",
      "313/313 [==============================] - 13s 40ms/step - loss: 0.5841 - accuracy: 0.6992 - val_loss: 0.5882 - val_accuracy: 0.6882\n",
      "Epoch 16/100\n",
      "313/313 [==============================] - 14s 44ms/step - loss: 0.5827 - accuracy: 0.6982 - val_loss: 0.5833 - val_accuracy: 0.6918\n",
      "Epoch 17/100\n",
      "313/313 [==============================] - 14s 44ms/step - loss: 0.5814 - accuracy: 0.6991 - val_loss: 0.5820 - val_accuracy: 0.6960\n",
      "Epoch 18/100\n",
      "313/313 [==============================] - 15s 48ms/step - loss: 0.5808 - accuracy: 0.6992 - val_loss: 0.5863 - val_accuracy: 0.6898\n",
      "Epoch 19/100\n",
      "313/313 [==============================] - 17s 54ms/step - loss: 0.5799 - accuracy: 0.6985 - val_loss: 0.5804 - val_accuracy: 0.6938\n",
      "Epoch 20/100\n",
      "313/313 [==============================] - 17s 55ms/step - loss: 0.5789 - accuracy: 0.7003 - val_loss: 0.5844 - val_accuracy: 0.6928\n",
      "Epoch 21/100\n",
      "313/313 [==============================] - 16s 50ms/step - loss: 0.5785 - accuracy: 0.7005 - val_loss: 0.5794 - val_accuracy: 0.6980\n",
      "Epoch 22/100\n",
      "313/313 [==============================] - 12s 39ms/step - loss: 0.5776 - accuracy: 0.7002 - val_loss: 0.5780 - val_accuracy: 0.6998\n",
      "Epoch 23/100\n",
      "313/313 [==============================] - 11s 37ms/step - loss: 0.5769 - accuracy: 0.6995 - val_loss: 0.5792 - val_accuracy: 0.6944\n",
      "Epoch 24/100\n",
      "313/313 [==============================] - 13s 42ms/step - loss: 0.5768 - accuracy: 0.7013 - val_loss: 0.5771 - val_accuracy: 0.6992\n",
      "Epoch 25/100\n",
      "313/313 [==============================] - 13s 42ms/step - loss: 0.5762 - accuracy: 0.6995 - val_loss: 0.5765 - val_accuracy: 0.6988\n",
      "Epoch 26/100\n",
      "313/313 [==============================] - 12s 37ms/step - loss: 0.5757 - accuracy: 0.6995 - val_loss: 0.5763 - val_accuracy: 0.6990\n",
      "Epoch 27/100\n",
      "313/313 [==============================] - 11s 37ms/step - loss: 0.5751 - accuracy: 0.6999 - val_loss: 0.5762 - val_accuracy: 0.6974\n",
      "Epoch 28/100\n",
      "313/313 [==============================] - 12s 37ms/step - loss: 0.5749 - accuracy: 0.7016 - val_loss: 0.5759 - val_accuracy: 0.6952\n",
      "Epoch 29/100\n",
      "313/313 [==============================] - 14s 45ms/step - loss: 0.5743 - accuracy: 0.7018 - val_loss: 0.5750 - val_accuracy: 0.6990\n",
      "Epoch 30/100\n",
      "313/313 [==============================] - 14s 46ms/step - loss: 0.5738 - accuracy: 0.7005 - val_loss: 0.5769 - val_accuracy: 0.6948\n",
      "Epoch 31/100\n",
      "313/313 [==============================] - 14s 44ms/step - loss: 0.5735 - accuracy: 0.7006 - val_loss: 0.5782 - val_accuracy: 0.6984\n",
      "Epoch 32/100\n",
      "313/313 [==============================] - 15s 47ms/step - loss: 0.5729 - accuracy: 0.7031 - val_loss: 0.5740 - val_accuracy: 0.6994\n",
      "Epoch 33/100\n",
      "313/313 [==============================] - 15s 49ms/step - loss: 0.5725 - accuracy: 0.7010 - val_loss: 0.5733 - val_accuracy: 0.7002\n",
      "Epoch 34/100\n",
      "313/313 [==============================] - 15s 48ms/step - loss: 0.5718 - accuracy: 0.7031 - val_loss: 0.5735 - val_accuracy: 0.6970\n",
      "Epoch 35/100\n",
      "313/313 [==============================] - 15s 47ms/step - loss: 0.5718 - accuracy: 0.7041 - val_loss: 0.5731 - val_accuracy: 0.7034\n",
      "Epoch 36/100\n",
      "313/313 [==============================] - 13s 40ms/step - loss: 0.5714 - accuracy: 0.7019 - val_loss: 0.5733 - val_accuracy: 0.7022\n",
      "Epoch 37/100\n",
      "313/313 [==============================] - 15s 48ms/step - loss: 0.5707 - accuracy: 0.7026 - val_loss: 0.5840 - val_accuracy: 0.6878\n",
      "Epoch 38/100\n",
      "313/313 [==============================] - 14s 45ms/step - loss: 0.5703 - accuracy: 0.7030 - val_loss: 0.5798 - val_accuracy: 0.6918\n"
     ]
    }
   ],
   "source": [
    "rmsprop = keras.optimizers.RMSprop(learning_rate=1e-4)\n",
    "model.compile(optimizer=rmsprop, \n",
    "              loss=\"binary_crossentropy\",\n",
    "              metrics=[\"accuracy\"])\n",
    "checkpoint_cb = keras.callbacks.ModelCheckpoint(\"best-lstm-model.h5\",\n",
    "                                                save_best_only=True)\n",
    "early_stopping_cb = keras.callbacks.EarlyStopping(patience=3, \n",
    "                                                  restore_best_weights=True)\n",
    "history = model.fit(train_seq, train_target, \n",
    "                    epochs=100, \n",
    "                    batch_size=64, \n",
    "                    validation_data=(val_seq, val_target),\n",
    "                    callbacks=[checkpoint_cb, early_stopping_cb])"
   ]
  },
  {
   "cell_type": "code",
   "execution_count": 27,
   "metadata": {},
   "outputs": [
    {
     "data": {
      "image/png": "[encoded data removed]",
      "text/plain": [
       "<Figure size 640x480 with 1 Axes>"
      ]
     },
     "metadata": {},
     "output_type": "display_data"
    }
   ],
   "source": [
    "import matplotlib.pyplot as plt\n",
    "plt.plot(history.history[\"loss\"])\n",
    "plt.plot(history.history[\"val_loss\"])\n",
    "plt.xlabel(\"epoch\")\n",
    "plt.ylabel(\"loss\")\n",
    "plt.legend([\"train\", \"val\"])\n",
    "plt.show()"
   ]
  },
  {
   "attachments": {},
   "cell_type": "markdown",
   "metadata": {},
   "source": [
    "- 2개의 층을 연결하기\n",
    "- 이때, 마지막 층을 제외하고는 모든 타임스텝의 은닉 상태를 전달해야 한다"
   ]
  },
  {
   "cell_type": "code",
   "execution_count": 28,
   "metadata": {},
   "outputs": [],
   "source": [
    "model3 = keras.Sequential()\n",
    "model3.add(keras.layers.Embedding(500, 16, input_length=100))\n",
    "model3.add(keras.layers.LSTM(8, dropout=0.3, return_sequences=True))\n",
    "model3.add(keras.layers.LSTM(8, dropout=0.3))\n",
    "model3.add(keras.layers.Dense(1, activation=\"sigmoid\"))"
   ]
  },
  {
   "cell_type": "code",
   "execution_count": 29,
   "metadata": {},
   "outputs": [
    {
     "name": "stdout",
     "output_type": "stream",
     "text": [
      "Model: \"sequential_3\"\n",
      "_________________________________________________________________\n",
      " Layer (type)                Output Shape              Param #   \n",
      "=================================================================\n",
      " embedding_2 (Embedding)     (None, 100, 16)           8000      \n",
      "                                                                 \n",
      " lstm_1 (LSTM)               (None, 100, 8)            800       \n",
      "                                                                 \n",
      " lstm_2 (LSTM)               (None, 8)                 544       \n",
      "                                                                 \n",
      " dense_3 (Dense)             (None, 1)                 9         \n",
      "                                                                 \n",
      "=================================================================\n",
      "Total params: 9,353\n",
      "Trainable params: 9,353\n",
      "Non-trainable params: 0\n",
      "_________________________________________________________________\n"
     ]
    }
   ],
   "source": [
    "model3.summary()"
   ]
  },
  {
   "attachments": {},
   "cell_type": "markdown",
   "metadata": {},
   "source": [
    "훈련시키기"
   ]
  },
  {
   "cell_type": "code",
   "execution_count": 30,
   "metadata": {},
   "outputs": [
    {
     "name": "stdout",
     "output_type": "stream",
     "text": [
      "Epoch 1/100\n",
      "313/313 [==============================] - 36s 93ms/step - loss: 0.6930 - accuracy: 0.5062 - val_loss: 0.6930 - val_accuracy: 0.4930\n",
      "Epoch 2/100\n",
      "313/313 [==============================] - 25s 79ms/step - loss: 0.6924 - accuracy: 0.5232 - val_loss: 0.6920 - val_accuracy: 0.5218\n",
      "Epoch 3/100\n",
      "313/313 [==============================] - 24s 78ms/step - loss: 0.6902 - accuracy: 0.5691 - val_loss: 0.6883 - val_accuracy: 0.5786\n",
      "Epoch 4/100\n",
      "313/313 [==============================] - 24s 77ms/step - loss: 0.6810 - accuracy: 0.6102 - val_loss: 0.6695 - val_accuracy: 0.6348\n",
      "Epoch 5/100\n",
      "313/313 [==============================] - 28s 90ms/step - loss: 0.6460 - accuracy: 0.6444 - val_loss: 0.6245 - val_accuracy: 0.6586\n",
      "Epoch 6/100\n",
      "313/313 [==============================] - 26s 84ms/step - loss: 0.6220 - accuracy: 0.6583 - val_loss: 0.6118 - val_accuracy: 0.6706\n",
      "Epoch 7/100\n",
      "313/313 [==============================] - 25s 80ms/step - loss: 0.6121 - accuracy: 0.6658 - val_loss: 0.6046 - val_accuracy: 0.6780\n",
      "Epoch 8/100\n",
      "313/313 [==============================] - 31s 99ms/step - loss: 0.6059 - accuracy: 0.6741 - val_loss: 0.5991 - val_accuracy: 0.6788\n",
      "Epoch 9/100\n",
      "313/313 [==============================] - 27s 86ms/step - loss: 0.5996 - accuracy: 0.6818 - val_loss: 0.5941 - val_accuracy: 0.6834\n",
      "Epoch 10/100\n",
      "313/313 [==============================] - 30s 96ms/step - loss: 0.5986 - accuracy: 0.6811 - val_loss: 0.5907 - val_accuracy: 0.6874\n",
      "Epoch 11/100\n",
      "313/313 [==============================] - 24s 77ms/step - loss: 0.5945 - accuracy: 0.6850 - val_loss: 0.5887 - val_accuracy: 0.6872\n",
      "Epoch 12/100\n",
      "313/313 [==============================] - 23s 74ms/step - loss: 0.5931 - accuracy: 0.6838 - val_loss: 0.5860 - val_accuracy: 0.6892\n",
      "Epoch 13/100\n",
      "313/313 [==============================] - 24s 78ms/step - loss: 0.5913 - accuracy: 0.6870 - val_loss: 0.5840 - val_accuracy: 0.6896\n",
      "Epoch 14/100\n",
      "313/313 [==============================] - 29s 94ms/step - loss: 0.5880 - accuracy: 0.6909 - val_loss: 0.5873 - val_accuracy: 0.6844\n",
      "Epoch 15/100\n",
      "313/313 [==============================] - 29s 91ms/step - loss: 0.5891 - accuracy: 0.6874 - val_loss: 0.5813 - val_accuracy: 0.6906\n",
      "Epoch 16/100\n",
      "313/313 [==============================] - 31s 101ms/step - loss: 0.5876 - accuracy: 0.6914 - val_loss: 0.5802 - val_accuracy: 0.6908\n",
      "Epoch 17/100\n",
      "313/313 [==============================] - 29s 94ms/step - loss: 0.5863 - accuracy: 0.6898 - val_loss: 0.5830 - val_accuracy: 0.6922\n",
      "Epoch 18/100\n",
      "313/313 [==============================] - 30s 96ms/step - loss: 0.5856 - accuracy: 0.6920 - val_loss: 0.5824 - val_accuracy: 0.6920\n",
      "Epoch 19/100\n",
      "313/313 [==============================] - 28s 90ms/step - loss: 0.5852 - accuracy: 0.6911 - val_loss: 0.5779 - val_accuracy: 0.6962\n",
      "Epoch 20/100\n",
      "313/313 [==============================] - 24s 75ms/step - loss: 0.5845 - accuracy: 0.6914 - val_loss: 0.5789 - val_accuracy: 0.6922\n",
      "Epoch 21/100\n",
      "313/313 [==============================] - 22s 70ms/step - loss: 0.5831 - accuracy: 0.6938 - val_loss: 0.5771 - val_accuracy: 0.7020\n",
      "Epoch 22/100\n",
      "313/313 [==============================] - 32s 104ms/step - loss: 0.5821 - accuracy: 0.6927 - val_loss: 0.5851 - val_accuracy: 0.6880\n",
      "Epoch 23/100\n",
      "313/313 [==============================] - 30s 95ms/step - loss: 0.5838 - accuracy: 0.6917 - val_loss: 0.5757 - val_accuracy: 0.6970\n",
      "Epoch 24/100\n",
      "313/313 [==============================] - 29s 93ms/step - loss: 0.5815 - accuracy: 0.6938 - val_loss: 0.5754 - val_accuracy: 0.6986\n",
      "Epoch 25/100\n",
      "313/313 [==============================] - 34s 109ms/step - loss: 0.5819 - accuracy: 0.6933 - val_loss: 0.5763 - val_accuracy: 0.6980\n",
      "Epoch 26/100\n",
      "313/313 [==============================] - 31s 100ms/step - loss: 0.5804 - accuracy: 0.6950 - val_loss: 0.5738 - val_accuracy: 0.7028\n",
      "Epoch 27/100\n",
      "313/313 [==============================] - 26s 84ms/step - loss: 0.5803 - accuracy: 0.6943 - val_loss: 0.5735 - val_accuracy: 0.7008\n",
      "Epoch 28/100\n",
      "313/313 [==============================] - 24s 78ms/step - loss: 0.5786 - accuracy: 0.6939 - val_loss: 0.5734 - val_accuracy: 0.7014\n",
      "Epoch 29/100\n",
      "313/313 [==============================] - 24s 77ms/step - loss: 0.5788 - accuracy: 0.6947 - val_loss: 0.5728 - val_accuracy: 0.7010\n",
      "Epoch 30/100\n",
      "313/313 [==============================] - 23s 74ms/step - loss: 0.5776 - accuracy: 0.6975 - val_loss: 0.5712 - val_accuracy: 0.7032\n",
      "Epoch 31/100\n",
      "313/313 [==============================] - 24s 78ms/step - loss: 0.5767 - accuracy: 0.6950 - val_loss: 0.5714 - val_accuracy: 0.7028\n",
      "Epoch 32/100\n",
      "313/313 [==============================] - 24s 75ms/step - loss: 0.5759 - accuracy: 0.6927 - val_loss: 0.5713 - val_accuracy: 0.7036\n",
      "Epoch 33/100\n",
      "313/313 [==============================] - 27s 87ms/step - loss: 0.5760 - accuracy: 0.6983 - val_loss: 0.5710 - val_accuracy: 0.7054\n",
      "Epoch 34/100\n",
      "313/313 [==============================] - 25s 81ms/step - loss: 0.5763 - accuracy: 0.6973 - val_loss: 0.5701 - val_accuracy: 0.7076\n",
      "Epoch 35/100\n",
      "313/313 [==============================] - 28s 89ms/step - loss: 0.5744 - accuracy: 0.6941 - val_loss: 0.5701 - val_accuracy: 0.7056\n",
      "Epoch 36/100\n",
      "313/313 [==============================] - 26s 82ms/step - loss: 0.5740 - accuracy: 0.6988 - val_loss: 0.5733 - val_accuracy: 0.6992\n",
      "Epoch 37/100\n",
      "313/313 [==============================] - 26s 82ms/step - loss: 0.5740 - accuracy: 0.6973 - val_loss: 0.5716 - val_accuracy: 0.7014\n"
     ]
    }
   ],
   "source": [
    "rmsprop = keras.optimizers.RMSprop(learning_rate=1e-4)\n",
    "model3.compile(optimizer=rmsprop, \n",
    "               loss=\"binary_crossentropy\",\n",
    "               metrics=[\"accuracy\"])\n",
    "checkpoint_cb = keras.callbacks.ModelCheckpoint(\"best-2rnn-model.h5\",\n",
    "                                                save_best_only=True)\n",
    "early_stopping_cb = keras.callbacks.EarlyStopping(patience=3, \n",
    "                                                  restore_best_weights=True)\n",
    "history = model3.fit(train_seq, train_target, \n",
    "                     epochs=100, batch_size=64, \n",
    "                     validation_data=(val_seq, val_target),\n",
    "                     callbacks=[checkpoint_cb, early_stopping_cb])"
   ]
  },
  {
   "cell_type": "code",
   "execution_count": 31,
   "metadata": {},
   "outputs": [
    {
     "data": {
      "image/png": "[encoded data removed]",
      "text/plain": [
       "<Figure size 640x480 with 1 Axes>"
      ]
     },
     "metadata": {},
     "output_type": "display_data"
    }
   ],
   "source": [
    "plt.plot(history.history[\"loss\"])\n",
    "plt.plot(history.history[\"val_loss\"])\n",
    "plt.xlabel(\"epoch\")\n",
    "plt.ylabel(\"loss\")\n",
    "plt.legend([\"train\", \"val\"])\n",
    "plt.show()"
   ]
  },
  {
   "attachments": {},
   "cell_type": "markdown",
   "metadata": {},
   "source": [
    "- GRU Gated Recurrent Unit\n",
    "- LSTM의 간소화된 버전\n",
    "- 은닉 상태 하나만 포함한다\n"
   ]
  },
  {
   "cell_type": "code",
   "execution_count": 32,
   "metadata": {},
   "outputs": [],
   "source": [
    "model4 = keras.Sequential()\n",
    "model4.add(keras.layers.Embedding(500, 16, input_length=100))\n",
    "model4.add(keras.layers.GRU(8))\n",
    "model4.add(keras.layers.Dense(1, activation=\"sigmoid\"))"
   ]
  },
  {
   "cell_type": "code",
   "execution_count": 33,
   "metadata": {},
   "outputs": [
    {
     "name": "stdout",
     "output_type": "stream",
     "text": [
      "Model: \"sequential_4\"\n",
      "_________________________________________________________________\n",
      " Layer (type)                Output Shape              Param #   \n",
      "=================================================================\n",
      " embedding_3 (Embedding)     (None, 100, 16)           8000      \n",
      "                                                                 \n",
      " gru (GRU)                   (None, 8)                 624       \n",
      "                                                                 \n",
      " dense_4 (Dense)             (None, 1)                 9         \n",
      "                                                                 \n",
      "=================================================================\n",
      "Total params: 8,633\n",
      "Trainable params: 8,633\n",
      "Non-trainable params: 0\n",
      "_________________________________________________________________\n"
     ]
    }
   ],
   "source": [
    "model4.summary()"
   ]
  },
  {
   "attachments": {},
   "cell_type": "markdown",
   "metadata": {},
   "source": [
    "훈련시키기"
   ]
  },
  {
   "cell_type": "code",
   "execution_count": 34,
   "metadata": {},
   "outputs": [
    {
     "name": "stdout",
     "output_type": "stream",
     "text": [
      "Epoch 1/100\n",
      "313/313 [==============================] - 16s 42ms/step - loss: 0.6929 - accuracy: 0.5105 - val_loss: 0.6928 - val_accuracy: 0.5216\n",
      "Epoch 2/100\n",
      "313/313 [==============================] - 15s 48ms/step - loss: 0.6924 - accuracy: 0.5258 - val_loss: 0.6923 - val_accuracy: 0.5392\n",
      "Epoch 3/100\n",
      "313/313 [==============================] - 14s 45ms/step - loss: 0.6918 - accuracy: 0.5379 - val_loss: 0.6918 - val_accuracy: 0.5304\n",
      "Epoch 4/100\n",
      "313/313 [==============================] - 13s 41ms/step - loss: 0.6911 - accuracy: 0.5418 - val_loss: 0.6911 - val_accuracy: 0.5412\n",
      "Epoch 5/100\n",
      "313/313 [==============================] - 12s 39ms/step - loss: 0.6901 - accuracy: 0.5505 - val_loss: 0.6900 - val_accuracy: 0.5672\n",
      "Epoch 6/100\n",
      "313/313 [==============================] - 13s 42ms/step - loss: 0.6888 - accuracy: 0.5583 - val_loss: 0.6887 - val_accuracy: 0.5706\n",
      "Epoch 7/100\n",
      "313/313 [==============================] - 13s 41ms/step - loss: 0.6872 - accuracy: 0.5617 - val_loss: 0.6870 - val_accuracy: 0.5642\n",
      "Epoch 8/100\n",
      "313/313 [==============================] - 12s 40ms/step - loss: 0.6850 - accuracy: 0.5659 - val_loss: 0.6845 - val_accuracy: 0.5750\n",
      "Epoch 9/100\n",
      "313/313 [==============================] - 13s 40ms/step - loss: 0.6822 - accuracy: 0.5712 - val_loss: 0.6818 - val_accuracy: 0.5764\n",
      "Epoch 10/100\n",
      "313/313 [==============================] - 13s 40ms/step - loss: 0.6785 - accuracy: 0.5763 - val_loss: 0.6775 - val_accuracy: 0.5838\n",
      "Epoch 11/100\n",
      "313/313 [==============================] - 13s 42ms/step - loss: 0.6735 - accuracy: 0.5858 - val_loss: 0.6716 - val_accuracy: 0.5894\n",
      "Epoch 12/100\n",
      "313/313 [==============================] - 14s 46ms/step - loss: 0.6662 - accuracy: 0.5969 - val_loss: 0.6625 - val_accuracy: 0.6046\n",
      "Epoch 13/100\n",
      "313/313 [==============================] - 13s 41ms/step - loss: 0.6541 - accuracy: 0.6133 - val_loss: 0.6474 - val_accuracy: 0.6258\n",
      "Epoch 14/100\n",
      "313/313 [==============================] - 13s 40ms/step - loss: 0.6313 - accuracy: 0.6424 - val_loss: 0.6196 - val_accuracy: 0.6532\n",
      "Epoch 15/100\n",
      "313/313 [==============================] - 14s 45ms/step - loss: 0.6090 - accuracy: 0.6686 - val_loss: 0.6077 - val_accuracy: 0.6660\n",
      "Epoch 16/100\n",
      "313/313 [==============================] - 13s 42ms/step - loss: 0.6006 - accuracy: 0.6783 - val_loss: 0.6010 - val_accuracy: 0.6750\n",
      "Epoch 17/100\n",
      "313/313 [==============================] - 12s 39ms/step - loss: 0.5943 - accuracy: 0.6831 - val_loss: 0.5966 - val_accuracy: 0.6812\n",
      "Epoch 18/100\n",
      "313/313 [==============================] - 13s 40ms/step - loss: 0.5897 - accuracy: 0.6887 - val_loss: 0.5907 - val_accuracy: 0.6866\n",
      "Epoch 19/100\n",
      "313/313 [==============================] - 13s 41ms/step - loss: 0.5867 - accuracy: 0.6935 - val_loss: 0.5898 - val_accuracy: 0.6892\n",
      "Epoch 20/100\n",
      "313/313 [==============================] - 13s 41ms/step - loss: 0.5842 - accuracy: 0.6964 - val_loss: 0.5867 - val_accuracy: 0.6884\n",
      "Epoch 21/100\n",
      "313/313 [==============================] - 13s 41ms/step - loss: 0.5820 - accuracy: 0.6976 - val_loss: 0.5835 - val_accuracy: 0.6922\n",
      "Epoch 22/100\n",
      "313/313 [==============================] - 15s 47ms/step - loss: 0.5806 - accuracy: 0.6987 - val_loss: 0.5828 - val_accuracy: 0.6966\n",
      "Epoch 23/100\n",
      "313/313 [==============================] - 16s 51ms/step - loss: 0.5792 - accuracy: 0.6991 - val_loss: 0.5811 - val_accuracy: 0.6904\n",
      "Epoch 24/100\n",
      "313/313 [==============================] - 17s 53ms/step - loss: 0.5783 - accuracy: 0.6999 - val_loss: 0.5805 - val_accuracy: 0.6918\n",
      "Epoch 25/100\n",
      "313/313 [==============================] - 15s 48ms/step - loss: 0.5772 - accuracy: 0.6996 - val_loss: 0.5828 - val_accuracy: 0.6934\n",
      "Epoch 26/100\n",
      "313/313 [==============================] - 14s 44ms/step - loss: 0.5765 - accuracy: 0.7019 - val_loss: 0.5783 - val_accuracy: 0.6960\n",
      "Epoch 27/100\n",
      "313/313 [==============================] - 12s 40ms/step - loss: 0.5757 - accuracy: 0.7016 - val_loss: 0.5779 - val_accuracy: 0.6948\n",
      "Epoch 28/100\n",
      "313/313 [==============================] - 12s 40ms/step - loss: 0.5752 - accuracy: 0.7008 - val_loss: 0.5782 - val_accuracy: 0.6974\n",
      "Epoch 29/100\n",
      "313/313 [==============================] - 12s 39ms/step - loss: 0.5747 - accuracy: 0.7036 - val_loss: 0.5781 - val_accuracy: 0.6974\n",
      "Epoch 30/100\n",
      "313/313 [==============================] - 13s 42ms/step - loss: 0.5746 - accuracy: 0.7008 - val_loss: 0.5795 - val_accuracy: 0.6962\n"
     ]
    }
   ],
   "source": [
    "rmsprop = keras.optimizers.RMSprop(learning_rate=1e-4)\n",
    "model4.compile(optimizer=rmsprop, \n",
    "               loss=\"binary_crossentropy\",\n",
    "               metrics=[\"accuracy\"])\n",
    "checkpoint_cb = keras.callbacks.ModelCheckpoint(\"best-gru-model.h5\",\n",
    "                                                save_best_only=True)\n",
    "early_stopping_cb = keras.callbacks.EarlyStopping(patience=3, \n",
    "                                                  restore_best_weights=True)\n",
    "history = model4.fit(train_seq, train_target, \n",
    "                     epochs=100, \n",
    "                     batch_size=64, \n",
    "                     validation_data=(val_seq, val_target),\n",
    "                     callbacks=[checkpoint_cb, early_stopping_cb])"
   ]
  },
  {
   "cell_type": "code",
   "execution_count": 35,
   "metadata": {},
   "outputs": [
    {
     "data": {
      "image/png": "[encoded data removed]",
      "text/plain": [
       "<Figure size 640x480 with 1 Axes>"
      ]
     },
     "metadata": {},
     "output_type": "display_data"
    }
   ],
   "source": [
    "plt.plot(history.history[\"loss\"])\n",
    "plt.plot(history.history[\"val_loss\"])\n",
    "plt.xlabel(\"epoch\")\n",
    "plt.ylabel(\"loss\")\n",
    "plt.legend([\"train\", \"val\"])\n",
    "plt.show()"
   ]
  },
  {
   "cell_type": "code",
   "execution_count": null,
   "metadata": {},
   "outputs": [],
   "source": []
  }
 ],
 "metadata": {
  "kernelspec": {
   "display_name": ".venv",
   "language": "python",
   "name": "python3"
  },
  "language_info": {
   "codemirror_mode": {
    "name": "ipython",
    "version": 3
   },
   "file_extension": ".py",
   "mimetype": "text/x-python",
   "name": "python",
   "nbconvert_exporter": "python",
   "pygments_lexer": "ipython3",
   "version": "3.10.0"
  },
  "orig_nbformat": 4
 },
 "nbformat": 4,
 "nbformat_minor": 2
}
