{
 "cells": [
  {
   "attachments": {},
   "cell_type": "markdown",
   "metadata": {},
   "source": [
    "# 8. 이미지를 위한 인공 신경망\n",
    "\n",
    "### 합성곱 convolution\n",
    "\n",
    "- 입력 데이터에서 유용한 특성만 드러나게 처리하는 것\n",
    "\n",
    "### 합성곱의 동작 원리\n",
    "\n",
    "- 입력 데이터 전체에 가중치를 적용하는 게 아니라 일부에 가중치를 곱함\n",
    "- CNN Convolutional Neural Network에서는 뉴런을 filter/kernel라고 부름\n",
    "- 필터 filter: 뉴련 개수를 표현할 때\n",
    "- 커널 kernel: 입력에 곱하는 가중치를 의미할 때\n",
    "- 합성곱은 2차원 데이터에도 적용할 수 있다. \n",
    "\n",
    "![image](https://user-images.githubusercontent.com/81140673/224218029-29cf267c-da2c-4ea7-acc0-b7ad2ede7dce.png)\n",
    "\n",
    "- 입력 데이터의 왼쪽 위에서 오른쪽 맨 아래까지 이동하면서 출력을 만들어낸다\n",
    "- 이때 Convolutional 계산을 통해 어든 출력을 Feature map 특성 맵이라고 한다. "
   ]
  },
  {
   "attachments": {},
   "cell_type": "markdown",
   "metadata": {},
   "source": [
    "## 8-1. 합성곱 신경망의 구성 요소"
   ]
  },
  {
   "attachments": {},
   "cell_type": "markdown",
   "metadata": {},
   "source": [
    "케라스 합성곱 층\n",
    "\n",
    "- 합성곱 신경망의 정의: 1개 이상의 합성곱 층을 쓴 인공 신경망"
   ]
  },
  {
   "cell_type": "code",
   "execution_count": 1,
   "metadata": {},
   "outputs": [
    {
     "data": {
      "text/plain": [
       "<keras.layers.convolutional.conv2d.Conv2D at 0x13b6f851b70>"
      ]
     },
     "execution_count": 1,
     "metadata": {},
     "output_type": "execute_result"
    }
   ],
   "source": [
    "# 특성 맵은 활성화 함수를 적용한 후임\n",
    "# 커널의 크기는 하이퍼파라미터로 다양한 값을 적용할 수 있지만, (3, 3)이나 (5, 5)가 권장됨\n",
    "from tensorflow import keras\n",
    "keras.layers.Conv2D(10, kernel_size=(3, 3), activation=\"relu\")"
   ]
  },
  {
   "attachments": {},
   "cell_type": "markdown",
   "metadata": {},
   "source": [
    "- 패딩\n",
    "\n",
    "![image](https://user-images.githubusercontent.com/81140673/224219332-eeb2368d-c65c-40c2-bcaa-a6c30af2cd8a.png)\n",
    "\n",
    "- 패딩이 필요한 이유: 커널(가중치 배열)은 그대로 두고 출력을 키우고 싶을 때\n",
    "- 패딩 Padding: 입력 배열 주위를 가상의 원소로 채우는 것(필터를 바꾸는 게 아니라 입력 데이터를 바꾸는 것임)\n",
    "- 세임 패딩 Same Padding: 0으로 패딩하기\n",
    "- valid padding: 패딩을 추가하지 않은 형태\n",
    "- 패딩이 없으면 가장자리의 원소가 참여하는 비율 낮아진다 -> 이미지 주변부에 있는 정보를 잃지 않도록 패딩을 한다. "
   ]
  },
  {
   "cell_type": "code",
   "execution_count": 2,
   "metadata": {},
   "outputs": [
    {
     "data": {
      "text/plain": [
       "<keras.layers.convolutional.conv2d.Conv2D at 0x13b6f7587c0>"
      ]
     },
     "execution_count": 2,
     "metadata": {},
     "output_type": "execute_result"
    }
   ],
   "source": [
    "keras.layers.Conv2D(10, kernel_size=(3, 3), activation=\"relu\", padding=\"same\")"
   ]
  },
  {
   "attachments": {},
   "cell_type": "markdown",
   "metadata": {},
   "source": [
    "Stride 스트라이드\n",
    "\n",
    "한번에 움직이는 크기 -> 보폭"
   ]
  },
  {
   "cell_type": "code",
   "execution_count": 3,
   "metadata": {},
   "outputs": [
    {
     "data": {
      "text/plain": [
       "<keras.layers.convolutional.conv2d.Conv2D at 0x13b6f758e50>"
      ]
     },
     "execution_count": 3,
     "metadata": {},
     "output_type": "execute_result"
    }
   ],
   "source": [
    "keras.layers.Conv2D(10, kernel_size=(3, 3), activation=\"relu\", padding=\"same\", \n",
    "                    strides=1)"
   ]
  },
  {
   "attachments": {},
   "cell_type": "markdown",
   "metadata": {},
   "source": [
    "풀링 Pooling\n",
    "\n",
    "- 합성곱 층에서 만든 특성 맵의 가로세로 크기를 줄이는 역할\n",
    "- Max pooling: 최댓값을 선택하여 풀링함\n",
    "- Average pooling: 평균값으로 풀링함\n",
    "\n",
    "![image](https://user-images.githubusercontent.com/81140673/224222636-602dd6c6-13df-4c8a-9ae2-862221831781.png)"
   ]
  },
  {
   "cell_type": "code",
   "execution_count": 6,
   "metadata": {},
   "outputs": [
    {
     "data": {
      "text/plain": [
       "<keras.layers.pooling.max_pooling2d.MaxPooling2D at 0x13b04e7de70>"
      ]
     },
     "execution_count": 6,
     "metadata": {},
     "output_type": "execute_result"
    }
   ],
   "source": [
    "# MaxPooling2D\n",
    "keras.layers.MaxPooling2D(2)\n",
    "keras.layers.MaxPooling2D(2, strides=2, padding=\"valid\")"
   ]
  },
  {
   "cell_type": "code",
   "execution_count": 5,
   "metadata": {},
   "outputs": [
    {
     "data": {
      "text/plain": [
       "<keras.layers.pooling.average_pooling2d.AveragePooling2D at 0x13b6f759300>"
      ]
     },
     "execution_count": 5,
     "metadata": {},
     "output_type": "execute_result"
    }
   ],
   "source": [
    "# AveragePooling2D\n",
    "keras.layers.AveragePooling2D(2)"
   ]
  },
  {
   "attachments": {},
   "cell_type": "markdown",
   "metadata": {},
   "source": [
    "### 합성곱 신경망 CNN의 전체 구조\n",
    "\n",
    "- 합성곱 층, 필터, 패딩, 스트라이드, 풀링\n",
    "\n",
    "![image](https://user-images.githubusercontent.com/81140673/224319621-2659e9e9-55bd-415b-8936-ceb54b880ab6.png)\n",
    "\n",
    "(step 1) 합성곱 층(세임 패딩=0으로 채우는 패딩)\n",
    "- 필터(=커널) 3*3짜리 3개\n",
    "- 필터를 거쳐 특성 맵이 만들어진다\n",
    "\n",
    "\n",
    "(step 2) 풀링층\n",
    "- max pooling을 이용해서 풀링\n",
    "\n",
    "(step 3) 밀집층\n",
    "- 이렇게 추출된 특성 맵을 1차원으로 펼친 뒤에\n",
    "- 밀집층을 거치고, 소프트맥스 활성화 함수로 클래스를 예측한다"
   ]
  },
  {
   "attachments": {},
   "cell_type": "markdown",
   "metadata": {},
   "source": [
    "### 컬러 이미지를 사용한 합성곱\n",
    "\n",
    "- 컬러 이미지는 4*4 크기면 4*4*3으로 표현된다\n",
    "- 필터도 3차원 크기로 한다 3*3*3으로\n",
    "- 입력의 깊이만큼 들어가면서 곱한다"
   ]
  }
 ],
 "metadata": {
  "kernelspec": {
   "display_name": ".venv",
   "language": "python",
   "name": "python3"
  },
  "language_info": {
   "codemirror_mode": {
    "name": "ipython",
    "version": 3
   },
   "file_extension": ".py",
   "mimetype": "text/x-python",
   "name": "python",
   "nbconvert_exporter": "python",
   "pygments_lexer": "ipython3",
   "version": "3.10.0"
  },
  "orig_nbformat": 4
 },
 "nbformat": 4,
 "nbformat_minor": 2
}
