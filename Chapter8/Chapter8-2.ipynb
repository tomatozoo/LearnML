{
 "cells": [
  {
   "attachments": {},
   "cell_type": "markdown",
   "metadata": {},
   "source": [
    "# 8. 이미지를 위한 인공 신경망\n",
    "\n",
    "### 합성곱 convolution\n",
    "\n",
    "- 입력 데이터에서 유용한 특성만 드러나게 처리하는 것\n",
    "\n",
    "### 합성곱의 동작 원리\n",
    "\n",
    "- 입력 데이터 전체에 가중치를 적용하는 게 아니라 일부에 가중치를 곱함\n",
    "- CNN Convolutional Neural Network에서는 뉴런을 filter/kernel라고 부름\n",
    "- 필터 filter: 뉴련 개수를 표현할 때\n",
    "- 커널 kernel: 입력에 곱하는 가중치를 의미할 때\n",
    "- 합성곱은 2차원 데이터에도 적용할 수 있다. \n",
    "\n",
    "![image](https://user-images.githubusercontent.com/81140673/224218029-29cf267c-da2c-4ea7-acc0-b7ad2ede7dce.png)\n",
    "\n",
    "- 입력 데이터의 왼쪽 위에서 오른쪽 맨 아래까지 이동하면서 출력을 만들어낸다\n",
    "- 이때 Convolutional 계산을 통해 어든 출력을 Feature map 특성 맵이라고 한다. "
   ]
  },
  {
   "attachments": {},
   "cell_type": "markdown",
   "metadata": {},
   "source": [
    "## 8-2. 합성곱 신경망을 사용한 이미지 분류\n",
    "\n",
    "- 텐서플로 케라스 API로 패션 MNIST 데이터를 CNN으로 분류하기"
   ]
  },
  {
   "attachments": {},
   "cell_type": "markdown",
   "metadata": {},
   "source": [
    "데이터 불러오기"
   ]
  },
  {
   "cell_type": "code",
   "execution_count": 6,
   "metadata": {},
   "outputs": [],
   "source": [
    "# 패션 MNIST 불러오기\n",
    "from tensorflow import keras\n",
    "from sklearn.model_selection import train_test_split\n",
    "(train_input, train_target), (test_input, test_target) = keras.datasets.fashion_mnist.load_data()\n",
    "# 255에서 0~1로 정규화하기 -> 깊이를 표시해줘야한다(예를 들면 RGB 이미지는 깊이가 3)\n",
    "train_scaled = train_input.reshape(-1, 28, 28, 1) / 255.0\n",
    "# 훈련 셋과 검증 셋으로 나누기\n",
    "train_scaled, val_scaled, train_target, val_target = train_test_split(\n",
    "    train_scaled, train_target, test_size=0.2, random_state=42\n",
    ")"
   ]
  },
  {
   "attachments": {},
   "cell_type": "markdown",
   "metadata": {},
   "source": [
    "### 합성곱 신경망 만들기\n",
    "\n",
    "![image](https://user-images.githubusercontent.com/81140673/224319621-2659e9e9-55bd-415b-8936-ceb54b880ab6.png)\n",
    "\n",
    "- 케라스 Sequential 클래스 객체를 만들고 여기에 층을 추가한다\n",
    "- step 1) 합성곱 층을 추가 (커널로 필터링하고 피처 맵을 도출함)"
   ]
  },
  {
   "cell_type": "code",
   "execution_count": 7,
   "metadata": {},
   "outputs": [],
   "source": [
    "model = keras.Sequential()\n",
    "# 합성곱 층\n",
    "model.add(\n",
    "    keras.layers.Conv2D(32, # 필터 32개\n",
    "                        kernel_size=3, # 커널은 3*3\n",
    "                        activation=\"relu\", # relu 활성화 함수를 사용\n",
    "                        padding=\"same\", # 세임 패딩 사용\n",
    "                        input_shape=(28, 28, 1) # input은 28*28인 흑백 이미지\n",
    "                        )\n",
    ")"
   ]
  },
  {
   "attachments": {},
   "cell_type": "markdown",
   "metadata": {},
   "source": [
    "- step 2) 풀링 층 추가하기(이미지 크기를 줄여줌)\n",
    "- 맥스 풀링: keras.layers.MaxPooling2D\n",
    "- 평균 풀링: keras.layers.AveragePooling2D"
   ]
  },
  {
   "cell_type": "code",
   "execution_count": 8,
   "metadata": {},
   "outputs": [],
   "source": [
    "# 풀링 층 2X2\n",
    "model.add(keras.layers.MaxPooling2D(2))"
   ]
  },
  {
   "attachments": {},
   "cell_type": "markdown",
   "metadata": {},
   "source": [
    "- step 3) 두번째 합성곱-풀링층 추가하기\n",
    "- 이때 필터 개수를 64개로 늘린다"
   ]
  },
  {
   "cell_type": "code",
   "execution_count": 9,
   "metadata": {},
   "outputs": [],
   "source": [
    "# 두번째 합성곱-풀링 층\n",
    "model.add(keras.layers.Conv2D(64, # 필터 개수 64개\n",
    "                              kernel_size=3, \n",
    "                              activation=\"relu\",\n",
    "                              padding=\"same\"))\n",
    "model.add(keras.layers.MaxPooling2D(2))"
   ]
  },
  {
   "attachments": {},
   "cell_type": "markdown",
   "metadata": {},
   "source": [
    "- step 3) 특성 맵을 일렬로 펼치기"
   ]
  },
  {
   "cell_type": "code",
   "execution_count": 10,
   "metadata": {},
   "outputs": [],
   "source": [
    "# 일렬로 펼치기\n",
    "model.add(keras.layers.Flatten())\n",
    "model.add(keras.layers.Dense(100, activation=\"relu\"))\n",
    "model.add(keras.layers.Dropout(0.4)) # 은닉층의 과대적합을 막음\n",
    "model.add(keras.layers.Dense(10, activation=\"softmax\")) # 다중 분류 문제이므로 softmax"
   ]
  },
  {
   "attachments": {},
   "cell_type": "markdown",
   "metadata": {},
   "source": [
    "- 모델 구조 출력하기"
   ]
  },
  {
   "cell_type": "code",
   "execution_count": 11,
   "metadata": {},
   "outputs": [
    {
     "name": "stdout",
     "output_type": "stream",
     "text": [
      "Model: \"sequential\"\n",
      "_________________________________________________________________\n",
      " Layer (type)                Output Shape              Param #   \n",
      "=================================================================\n",
      " conv2d_3 (Conv2D)           (None, 28, 28, 32)        320       \n",
      "                                                                 \n",
      " max_pooling2d_2 (MaxPooling  (None, 14, 14, 32)       0         \n",
      " 2D)                                                             \n",
      "                                                                 \n",
      " conv2d_4 (Conv2D)           (None, 14, 14, 64)        18496     \n",
      "                                                                 \n",
      " max_pooling2d_3 (MaxPooling  (None, 7, 7, 64)         0         \n",
      " 2D)                                                             \n",
      "                                                                 \n",
      " flatten (Flatten)           (None, 3136)              0         \n",
      "                                                                 \n",
      " dense (Dense)               (None, 100)               313700    \n",
      "                                                                 \n",
      " dropout (Dropout)           (None, 100)               0         \n",
      "                                                                 \n",
      " dense_1 (Dense)             (None, 10)                1010      \n",
      "                                                                 \n",
      "=================================================================\n",
      "Total params: 333,526\n",
      "Trainable params: 333,526\n",
      "Non-trainable params: 0\n",
      "_________________________________________________________________\n"
     ]
    }
   ],
   "source": [
    "model.summary()"
   ]
  },
  {
   "attachments": {},
   "cell_type": "markdown",
   "metadata": {},
   "source": [
    "모델 컴파일과 훈련"
   ]
  },
  {
   "cell_type": "code",
   "execution_count": 17,
   "metadata": {},
   "outputs": [
    {
     "name": "stdout",
     "output_type": "stream",
     "text": [
      "Epoch 1/20\n",
      "1500/1500 [==============================] - 62s 40ms/step - loss: 0.5312 - accuracy: 0.8098 - val_loss: 0.3361 - val_accuracy: 0.8770\n",
      "Epoch 2/20\n",
      "1500/1500 [==============================] - 62s 42ms/step - loss: 0.3512 - accuracy: 0.8747 - val_loss: 0.2777 - val_accuracy: 0.8950\n",
      "Epoch 3/20\n",
      "1500/1500 [==============================] - 50s 33ms/step - loss: 0.3009 - accuracy: 0.8921 - val_loss: 0.2555 - val_accuracy: 0.9066\n",
      "Epoch 4/20\n",
      "1500/1500 [==============================] - 54s 36ms/step - loss: 0.2720 - accuracy: 0.9000 - val_loss: 0.2436 - val_accuracy: 0.9107\n",
      "Epoch 5/20\n",
      "1500/1500 [==============================] - 53s 36ms/step - loss: 0.2453 - accuracy: 0.9112 - val_loss: 0.2518 - val_accuracy: 0.9073\n",
      "Epoch 6/20\n",
      "1500/1500 [==============================] - 51s 34ms/step - loss: 0.2272 - accuracy: 0.9163 - val_loss: 0.2471 - val_accuracy: 0.9103\n"
     ]
    }
   ],
   "source": [
    "model.compile(\n",
    "    optimizer=\"adam\",\n",
    "    loss=\"sparse_categorical_crossentropy\",\n",
    "    metrics=\"accuracy\"\n",
    ")\n",
    "checkpoint_cb = keras.callbacks.ModelCheckpoint(\n",
    "    \"best-cnn-model.h5\",\n",
    "    save_best_only=True\n",
    ")\n",
    "early_stopping_cb = keras.callbacks.EarlyStopping(\n",
    "    patience=2, \n",
    "    restore_best_weights=True\n",
    ")\n",
    "history = model.fit(\n",
    "    train_scaled, train_target, \n",
    "    epochs=20, \n",
    "    validation_data=(val_scaled, val_target),\n",
    "    callbacks=[checkpoint_cb, early_stopping_cb]\n",
    ")"
   ]
  },
  {
   "cell_type": "code",
   "execution_count": 18,
   "metadata": {},
   "outputs": [
    {
     "data": {
      "image/png": "[encoded data removed]",
      "text/plain": [
       "<Figure size 640x480 with 1 Axes>"
      ]
     },
     "metadata": {},
     "output_type": "display_data"
    }
   ],
   "source": [
    "import matplotlib.pyplot as plt\n",
    "plt.plot(history.history[\"loss\"])\n",
    "plt.plot(history.history[\"val_loss\"])\n",
    "plt.xlabel(\"epoch\")\n",
    "plt.ylabel(\"loss\")\n",
    "plt.legend([\"train\", \"val\"])\n",
    "plt.show()"
   ]
  },
  {
   "attachments": {},
   "cell_type": "markdown",
   "metadata": {},
   "source": [
    "이미지 확인하기 "
   ]
  },
  {
   "cell_type": "code",
   "execution_count": 19,
   "metadata": {},
   "outputs": [
    {
     "data": {
      "image/png": "[encoded data removed]",
      "text/plain": [
       "<Figure size 640x480 with 1 Axes>"
      ]
     },
     "metadata": {},
     "output_type": "display_data"
    }
   ],
   "source": [
    "plt.imshow(val_scaled[0].reshape(28, 28), cmap=\"gray_r\")\n",
    "plt.show()"
   ]
  },
  {
   "cell_type": "code",
   "execution_count": 20,
   "metadata": {},
   "outputs": [
    {
     "name": "stdout",
     "output_type": "stream",
     "text": [
      "1/1 [==============================] - 0s 136ms/step\n",
      "[[3.8481035e-14 1.1127288e-15 3.9119670e-15 6.3330884e-13 4.5871336e-13\n",
      "  3.6375694e-10 3.1305411e-13 3.2782410e-12 1.0000000e+00 2.4533229e-12]]\n"
     ]
    },
    {
     "data": {
      "image/png": "[encoded data removed]",
      "text/plain": [
       "<Figure size 640x480 with 1 Axes>"
      ]
     },
     "metadata": {},
     "output_type": "display_data"
    }
   ],
   "source": [
    "# val_scaled 0:1 데이터에 대한 예측 비율\n",
    "preds = model.predict(val_scaled[0:1])\n",
    "print(preds)\n",
    "\n",
    "# 시각화 결과\n",
    "plt.bar(range(1, 11), preds[0])\n",
    "plt.xlabel(\"class\")\n",
    "plt.ylabel(\"prob.\")\n",
    "plt.show()"
   ]
  },
  {
   "attachments": {},
   "cell_type": "markdown",
   "metadata": {},
   "source": [
    "테스트 케이스"
   ]
  },
  {
   "cell_type": "code",
   "execution_count": 21,
   "metadata": {},
   "outputs": [
    {
     "name": "stdout",
     "output_type": "stream",
     "text": [
      "313/313 [==============================] - 3s 9ms/step - loss: 0.2629 - accuracy: 0.9042\n"
     ]
    },
    {
     "data": {
      "text/plain": [
       "[0.2628844380378723, 0.90420001745224]"
      ]
     },
     "execution_count": 21,
     "metadata": {},
     "output_type": "execute_result"
    }
   ],
   "source": [
    "test_scaled = test_input.reshape(-1, 28, 28, 1) / 255.0\n",
    "model.evaluate(test_scaled, test_target)"
   ]
  },
  {
   "attachments": {},
   "cell_type": "markdown",
   "metadata": {},
   "source": [
    "## 8-3. 합성곱 신경망의 시각화"
   ]
  },
  {
   "cell_type": "code",
   "execution_count": null,
   "metadata": {},
   "outputs": [],
   "source": []
  },
  {
   "cell_type": "code",
   "execution_count": null,
   "metadata": {},
   "outputs": [],
   "source": []
  },
  {
   "cell_type": "code",
   "execution_count": null,
   "metadata": {},
   "outputs": [],
   "source": []
  },
  {
   "cell_type": "code",
   "execution_count": null,
   "metadata": {},
   "outputs": [],
   "source": []
  },
  {
   "cell_type": "code",
   "execution_count": null,
   "metadata": {},
   "outputs": [],
   "source": []
  },
  {
   "cell_type": "markdown",
   "metadata": {},
   "source": []
  }
 ],
 "metadata": {
  "kernelspec": {
   "display_name": ".venv",
   "language": "python",
   "name": "python3"
  },
  "language_info": {
   "codemirror_mode": {
    "name": "ipython",
    "version": 3
   },
   "file_extension": ".py",
   "mimetype": "text/x-python",
   "name": "python",
   "nbconvert_exporter": "python",
   "pygments_lexer": "ipython3",
   "version": "3.10.0"
  },
  "orig_nbformat": 4
 },
 "nbformat": 4,
 "nbformat_minor": 2
}
